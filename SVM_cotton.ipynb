{
  "nbformat": 4,
  "nbformat_minor": 0,
  "metadata": {
    "colab": {
      "name": "SVM cotton.ipynb",
      "provenance": [],
      "collapsed_sections": []
    },
    "kernelspec": {
      "name": "python3",
      "display_name": "Python 3"
    },
    "language_info": {
      "name": "python"
    },
    "accelerator": "GPU",
    "gpuClass": "standard"
  },
  "cells": [
    {
      "cell_type": "code",
      "execution_count": 18,
      "metadata": {
        "id": "y-9-jjwz3J7A"
      },
      "outputs": [],
      "source": [
        "from sklearn.svm import SVC\n",
        "from sklearn.model_selection import train_test_split\n",
        "import os\n",
        "from sklearn.model_selection import GridSearchCV\n",
        "from imutils import paths\n",
        "import pandas as pd\n",
        "import numpy as np\n",
        "import matplotlib.pyplot as plt\n",
        "import cv2"
      ]
    },
    {
      "cell_type": "code",
      "source": [
        "def imgm(img,size=(32,32)):\n",
        "    img=cv2.resize(img,size)\n",
        "    pix=img.flatten()\n",
        "    return pix"
      ],
      "metadata": {
        "id": "DVVQnRIg3YdL"
      },
      "execution_count": 19,
      "outputs": []
    },
    {
      "cell_type": "code",
      "source": [
        "path=list(paths.list_images(\"/content/drive/MyDrive/Colab Notebooks/DataSets\"))\n",
        "IMG=[]\n",
        "label=[]\n",
        "\n",
        "for (i, image_path) in enumerate(path):\n",
        "    image = cv2.imread(image_path)\n",
        "    lab = image_path.split(os.path.sep)[-2].split(\".\")[0]\n",
        "    # extract raw pixel intensity \"features\n",
        "    pixels = imgm(image)\n",
        "    IMG.append(pixels)\n",
        "    label.append(lab)\n",
        "\n",
        "x = np.array(IMG)\n",
        "y = np.array(label)\n"
      ],
      "metadata": {
        "id": "AShhn0vr3dhL"
      },
      "execution_count": 20,
      "outputs": []
    },
    {
      "cell_type": "code",
      "source": [
        "_=plt.plot(x,y,\"ro\")"
      ],
      "metadata": {
        "colab": {
          "base_uri": "https://localhost:8080/",
          "height": 265
        },
        "id": "zgaRe6Ksoh91",
        "outputId": "cee66adb-5d65-4462-ed9f-0da94bb53d67"
      },
      "execution_count": 49,
      "outputs": [
        {
          "output_type": "display_data",
          "data": {
            "text/plain": [
              "<Figure size 432x288 with 1 Axes>"
            ],
            "image/png": "[encoded data removed]"
          },
          "metadata": {
            "needs_background": "light"
          }
        }
      ]
    },
    {
      "cell_type": "code",
      "source": [
        "figure = imgs.get_figure()    \n",
        "figure.savefig('input data svm.png', dpi=400)"
      ],
      "metadata": {
        "id": "0ATQCAEJpQZT"
      },
      "execution_count": 50,
      "outputs": []
    },
    {
      "cell_type": "code",
      "source": [
        "param_grid={'C':[0.1,1,10,100],'gamma':[0.0001,0.001,0.1,1],'kernel':['rbf','poly']}\n",
        "sv=SVC(probability=True)\n",
        "model=GridSearchCV(sv,param_grid)"
      ],
      "metadata": {
        "id": "5FQjFElB43HD"
      },
      "execution_count": 21,
      "outputs": []
    },
    {
      "cell_type": "code",
      "source": [
        "xtrain,xtest,ytrain,ytest=train_test_split(x,y,test_size=0.2)\n",
        "model.fit(xtrain,ytrain)\n"
      ],
      "metadata": {
        "colab": {
          "base_uri": "https://localhost:8080/"
        },
        "id": "y8CvR0sn48P6",
        "outputId": "c5d5631b-6caf-4b3c-b4e0-64006a254f07"
      },
      "execution_count": 22,
      "outputs": [
        {
          "output_type": "execute_result",
          "data": {
            "text/plain": [
              "GridSearchCV(estimator=SVC(probability=True),\n",
              "             param_grid={'C': [0.1, 1, 10, 100],\n",
              "                         'gamma': [0.0001, 0.001, 0.1, 1],\n",
              "                         'kernel': ['rbf', 'poly']})"
            ]
          },
          "metadata": {},
          "execution_count": 22
        }
      ]
    },
    {
      "cell_type": "code",
      "source": [
        "pred=model.predict(xtest)\n"
      ],
      "metadata": {
        "id": "O_QtQDAY5I7_"
      },
      "execution_count": 23,
      "outputs": []
    },
    {
      "cell_type": "code",
      "source": [
        "_=plt.plot(xtest,ytest,\"ro\",xtest,pred,\"--k\")"
      ],
      "metadata": {
        "colab": {
          "base_uri": "https://localhost:8080/",
          "height": 265
        },
        "id": "uDEhi6k-paP2",
        "outputId": "4a299707-4a64-49aa-e298-22d18de68cc6"
      },
      "execution_count": 51,
      "outputs": [
        {
          "output_type": "display_data",
          "data": {
            "text/plain": [
              "<Figure size 432x288 with 1 Axes>"
            ],
            "image/png": "[encoded data removed]"
          },
          "metadata": {
            "needs_background": "light"
          }
        }
      ]
    },
    {
      "cell_type": "code",
      "source": [
        "from sklearn.metrics import confusion_matrix\n",
        "import seaborn as ss\n",
        "con=confusion_matrix(ytest,pred)\n",
        "imgs=ss.heatmap(con,annot=True,yticklabels=\"CB\",xticklabels=\"CB\")\n"
      ],
      "metadata": {
        "colab": {
          "base_uri": "https://localhost:8080/",
          "height": 265
        },
        "id": "oOnDunxp2U9S",
        "outputId": "c7f5fad3-9cf3-4b1c-8ead-34d1d192ba84"
      },
      "execution_count": 43,
      "outputs": [
        {
          "output_type": "display_data",
          "data": {
            "text/plain": [
              "<Figure size 432x288 with 2 Axes>"
            ],
            "image/png": "[encoded data removed]"
          },
          "metadata": {
            "needs_background": "light"
          }
        }
      ]
    },
    {
      "cell_type": "code",
      "source": [
        "figure = imgs.get_figure()    \n",
        "figure.savefig('confusion svm.png', dpi=400)"
      ],
      "metadata": {
        "id": "8_6DhuCogIV_"
      },
      "execution_count": 45,
      "outputs": []
    },
    {
      "cell_type": "code",
      "source": [
        ""
      ],
      "metadata": {
        "id": "h8qwtprSpMDh"
      },
      "execution_count": null,
      "outputs": []
    },
    {
      "cell_type": "code",
      "source": [
        "from sklearn.metrics import classification_report\n",
        "report=classification_report(ytest,pred)\n",
        "print(report)"
      ],
      "metadata": {
        "id": "7XMrD-WW2r7L",
        "colab": {
          "base_uri": "https://localhost:8080/"
        },
        "outputId": "36cfcfba-4077-4ee9-c863-4da962776d84"
      },
      "execution_count": 47,
      "outputs": [
        {
          "output_type": "stream",
          "name": "stdout",
          "text": [
            "                  precision    recall  f1-score   support\n",
            "\n",
            "bacterial_blight       0.97      0.98      0.97        87\n",
            "      curl_virus       0.98      0.97      0.97        86\n",
            "\n",
            "        accuracy                           0.97       173\n",
            "       macro avg       0.97      0.97      0.97       173\n",
            "    weighted avg       0.97      0.97      0.97       173\n",
            "\n"
          ]
        }
      ]
    }
  ]
}